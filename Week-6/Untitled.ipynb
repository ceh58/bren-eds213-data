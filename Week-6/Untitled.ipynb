{
 "cells": [
  {
   "cell_type": "code",
   "execution_count": 3,
   "id": "dbd5f5d2-47e0-4cb7-820c-2ea8523c0e69",
   "metadata": {
    "tags": []
   },
   "outputs": [],
   "source": [
    "import duckdb\n",
    "\n",
    "# Connect to the database\n",
    "con = duckdb.connect(\"../database/database.db\")"
   ]
  },
  {
   "cell_type": "markdown",
   "id": "6a93798a-5bce-44c8-91ca-019c594654ea",
   "metadata": {},
   "source": [
    "## Step 1"
   ]
  },
  {
   "cell_type": "code",
   "execution_count": 6,
   "id": "2729fe18-8dd4-427c-b0aa-b0e6d25910e1",
   "metadata": {
    "tags": []
   },
   "outputs": [
    {
     "ename": "BinderException",
     "evalue": "Binder Error: Referenced table \"egg_table\" not found!\nCandidate tables: \"Bird_eggs\"",
     "output_type": "error",
     "traceback": [
      "\u001b[0;31m---------------------------------------------------------------------------\u001b[0m",
      "\u001b[0;31mBinderException\u001b[0m                           Traceback (most recent call last)",
      "\u001b[0;32m/tmp/ipykernel_3541173/2408379589.py\u001b[0m in \u001b[0;36m<module>\u001b[0;34m\u001b[0m\n\u001b[1;32m      6\u001b[0m temp_species_table = (\n\u001b[1;32m      7\u001b[0m     \u001b[0megg_table\u001b[0m\u001b[0;34m.\u001b[0m\u001b[0mproject\u001b[0m\u001b[0;34m(\u001b[0m\u001b[0;34m\"Nest_ID\"\u001b[0m\u001b[0;34m)\u001b[0m\u001b[0;34m.\u001b[0m\u001b[0mdistinct\u001b[0m\u001b[0;34m(\u001b[0m\u001b[0;34m)\u001b[0m\u001b[0;34m\u001b[0m\u001b[0;34m\u001b[0m\u001b[0m\n\u001b[0;32m----> 8\u001b[0;31m     \u001b[0;34m.\u001b[0m\u001b[0mjoin\u001b[0m\u001b[0;34m(\u001b[0m\u001b[0mbird_nests\u001b[0m\u001b[0;34m,\u001b[0m \u001b[0;34m\"egg_table.Nest_ID = bird_nests.Nest_ID\"\u001b[0m\u001b[0;34m,\u001b[0m \u001b[0mhow\u001b[0m\u001b[0;34m=\u001b[0m\u001b[0;34m\"left\"\u001b[0m\u001b[0;34m)\u001b[0m\u001b[0;34m\u001b[0m\u001b[0;34m\u001b[0m\u001b[0m\n\u001b[0m\u001b[1;32m      9\u001b[0m     \u001b[0;34m.\u001b[0m\u001b[0mjoin\u001b[0m\u001b[0;34m(\u001b[0m\u001b[0mspecies\u001b[0m\u001b[0;34m,\u001b[0m \u001b[0;34m\"bird_nests.Species = species.Code\"\u001b[0m\u001b[0;34m,\u001b[0m \u001b[0mhow\u001b[0m\u001b[0;34m=\u001b[0m\u001b[0;34m\"left\"\u001b[0m\u001b[0;34m)\u001b[0m\u001b[0;34m\u001b[0m\u001b[0;34m\u001b[0m\u001b[0m\n\u001b[1;32m     10\u001b[0m     \u001b[0;34m.\u001b[0m\u001b[0mproject\u001b[0m\u001b[0;34m(\u001b[0m\u001b[0;34m\"Species\"\u001b[0m\u001b[0;34m,\u001b[0m \u001b[0;34m\"Scientific_name\"\u001b[0m\u001b[0;34m)\u001b[0m\u001b[0;34m\u001b[0m\u001b[0;34m\u001b[0m\u001b[0m\n",
      "\u001b[0;31mBinderException\u001b[0m: Binder Error: Referenced table \"egg_table\" not found!\nCandidate tables: \"Bird_eggs\""
     ]
    }
   ],
   "source": [
    "\n",
    "temp_species_table = (\n",
    "    egg_table.project(\"Nest_ID\").distinct()\n",
    "    .join(bird_nests, \"egg_table.Nest_ID = bird_nests.Nest_ID\", how=\"left\")\n",
    "    .join(species, \"bird_nests.Species = species.Code\", how=\"left\")\n",
    "    .project(\"Species\", \"Scientific_name\")\n",
    "    .distinct()\n",
    "    .order(\"Scientific_name\")\n",
    ")"
   ]
  },
  {
   "cell_type": "code",
   "execution_count": null,
   "id": "ca6d69e3-076c-4ed6-b1d8-4686c38f8781",
   "metadata": {},
   "outputs": [],
   "source": [
    "egg_table %>%\n",
    "  distinct(Nest_ID) %>%\n",
    "  left_join(bird_nests, by = \"Nest_ID\") %>%\n",
    "  left_join(species, by = c(\"Species\" = \"Code\")) %>%\n",
    "  distinct(Species, Scientific_name) %>%\n",
    "  arrange(Scientific_name) %>%\n",
    "  compute(name = \"temp_species_table\")"
   ]
  },
  {
   "cell_type": "code",
   "execution_count": 7,
   "id": "06074766-51bb-4448-98f8-2947e9c2a898",
   "metadata": {
    "tags": []
   },
   "outputs": [],
   "source": [
    "# Load tables as relations\n",
    "egg_table = con.table(\"Bird_eggs\")\n",
    "bird_nests = con.table(\"Bird_nests\")\n",
    "species = con.table(\"Species\")"
   ]
  },
  {
   "cell_type": "code",
   "execution_count": 10,
   "id": "b0a486d7-e4b4-4ed5-aaf4-7012f0718e62",
   "metadata": {
    "tags": []
   },
   "outputs": [
    {
     "ename": "SyntaxError",
     "evalue": "invalid syntax (2998879101.py, line 1)",
     "output_type": "error",
     "traceback": [
      "\u001b[0;36m  File \u001b[0;32m\"/tmp/ipykernel_3541173/2998879101.py\"\u001b[0;36m, line \u001b[0;32m1\u001b[0m\n\u001b[0;31m    SELECT DISTINCT Nest_ID FROM egg_table;\u001b[0m\n\u001b[0m                  ^\u001b[0m\n\u001b[0;31mSyntaxError\u001b[0m\u001b[0;31m:\u001b[0m invalid syntax\n"
     ]
    }
   ],
   "source": [
    "SELECT DISTINCT Nest_ID FROM egg_table;"
   ]
  },
  {
   "cell_type": "code",
   "execution_count": null,
   "id": "b794cc64-38b3-4d67-b31b-9e8352f9354d",
   "metadata": {},
   "outputs": [],
   "source": []
  }
 ],
 "metadata": {
  "kernelspec": {
   "display_name": "Python 3 (ipykernel)",
   "language": "python",
   "name": "python3"
  },
  "language_info": {
   "codemirror_mode": {
    "name": "ipython",
    "version": 3
   },
   "file_extension": ".py",
   "mimetype": "text/x-python",
   "name": "python",
   "nbconvert_exporter": "python",
   "pygments_lexer": "ipython3",
   "version": "3.7.13"
  }
 },
 "nbformat": 4,
 "nbformat_minor": 5
}
